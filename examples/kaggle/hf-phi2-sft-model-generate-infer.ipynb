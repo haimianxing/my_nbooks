{
 "cells": [
  {
   "cell_type": "code",
   "execution_count": 1,
   "id": "67c59eb2",
   "metadata": {
    "_cell_guid": "b1076dfc-b9ad-4769-8c92-a6c4dae69d19",
    "_uuid": "8f2839f25d086af736a60e9eeb907d3b93b6e0e5",
    "execution": {
     "iopub.execute_input": "2024-03-30T03:23:44.150881Z",
     "iopub.status.busy": "2024-03-30T03:23:44.150543Z",
     "iopub.status.idle": "2024-03-30T03:25:25.208761Z",
     "shell.execute_reply": "2024-03-30T03:25:25.207604Z"
    },
    "papermill": {
     "duration": 101.066258,
     "end_time": "2024-03-30T03:25:25.211370",
     "exception": false,
     "start_time": "2024-03-30T03:23:44.145112",
     "status": "completed"
    },
    "tags": []
   },
   "outputs": [],
   "source": [
    "!pip install -Uq /kaggle/input/llm-whls/bitsandbytes-0.41.1-py3-none-any.whl\n",
    "!pip install -Uq /kaggle/input/llm-whls/peft-0.4.0-py3-none-any.whl\n",
    "!pip install -Uq /kaggle/input/library-off-for-llm/transformers-4.38.2-py3-none-any.whl"
   ]
  },
  {
   "cell_type": "code",
   "execution_count": 2,
   "id": "66474c0a",
   "metadata": {
    "execution": {
     "iopub.execute_input": "2024-03-30T03:25:25.221281Z",
     "iopub.status.busy": "2024-03-30T03:25:25.220978Z",
     "iopub.status.idle": "2024-03-30T03:25:34.101923Z",
     "shell.execute_reply": "2024-03-30T03:25:34.101103Z"
    },
    "papermill": {
     "duration": 8.888357,
     "end_time": "2024-03-30T03:25:34.104217",
     "exception": false,
     "start_time": "2024-03-30T03:25:25.215860",
     "status": "completed"
    },
    "tags": []
   },
   "outputs": [],
   "source": [
    "import numpy as np\n",
    "import pandas as pd\n",
    "from tqdm.auto import tqdm\n",
    "\n",
    "import torch\n",
    "\n",
    "from peft import PeftConfig, PeftModel\n",
    "from transformers import AutoModelForCausalLM, AutoTokenizer"
   ]
  },
  {
   "cell_type": "code",
   "execution_count": 3,
   "id": "0eb45494",
   "metadata": {
    "execution": {
     "iopub.execute_input": "2024-03-30T03:25:34.113799Z",
     "iopub.status.busy": "2024-03-30T03:25:34.113371Z",
     "iopub.status.idle": "2024-03-30T03:25:34.117486Z",
     "shell.execute_reply": "2024-03-30T03:25:34.116653Z"
    },
    "papermill": {
     "duration": 0.010907,
     "end_time": "2024-03-30T03:25:34.119341",
     "exception": false,
     "start_time": "2024-03-30T03:25:34.108434",
     "status": "completed"
    },
    "tags": []
   },
   "outputs": [],
   "source": [
    "input_token_len = 1024\n",
    "output_token_len = 100"
   ]
  },
  {
   "cell_type": "code",
   "execution_count": 4,
   "id": "4c0a3e67",
   "metadata": {
    "execution": {
     "iopub.execute_input": "2024-03-30T03:25:34.128353Z",
     "iopub.status.busy": "2024-03-30T03:25:34.128118Z",
     "iopub.status.idle": "2024-03-30T03:25:34.139130Z",
     "shell.execute_reply": "2024-03-30T03:25:34.138301Z"
    },
    "papermill": {
     "duration": 0.0177,
     "end_time": "2024-03-30T03:25:34.141040",
     "exception": false,
     "start_time": "2024-03-30T03:25:34.123340",
     "status": "completed"
    },
    "tags": []
   },
   "outputs": [],
   "source": [
    "test_df = pd.read_csv('/kaggle/input/llm-prompt-recovery/test.csv')"
   ]
  },
  {
   "cell_type": "code",
   "execution_count": 5,
   "id": "97f88aef",
   "metadata": {
    "execution": {
     "iopub.execute_input": "2024-03-30T03:25:34.150074Z",
     "iopub.status.busy": "2024-03-30T03:25:34.149819Z",
     "iopub.status.idle": "2024-03-30T03:25:34.153367Z",
     "shell.execute_reply": "2024-03-30T03:25:34.152612Z"
    },
    "papermill": {
     "duration": 0.010133,
     "end_time": "2024-03-30T03:25:34.155215",
     "exception": false,
     "start_time": "2024-03-30T03:25:34.145082",
     "status": "completed"
    },
    "tags": []
   },
   "outputs": [],
   "source": [
    "base_model_name = \"/kaggle/input/phi/transformers/2/1\"\n",
    "adapter_model_name = \"/kaggle/input/phi2-public-data-sft-adapter/pytorch/public-data-sft/1/phi2_public_data_sft\""
   ]
  },
  {
   "cell_type": "code",
   "execution_count": 6,
   "id": "800a006f",
   "metadata": {
    "execution": {
     "iopub.execute_input": "2024-03-30T03:25:34.164494Z",
     "iopub.status.busy": "2024-03-30T03:25:34.164063Z",
     "iopub.status.idle": "2024-03-30T03:25:34.167942Z",
     "shell.execute_reply": "2024-03-30T03:25:34.167123Z"
    },
    "papermill": {
     "duration": 0.010466,
     "end_time": "2024-03-30T03:25:34.169777",
     "exception": false,
     "start_time": "2024-03-30T03:25:34.159311",
     "status": "completed"
    },
    "tags": []
   },
   "outputs": [],
   "source": [
    "device = torch.device(\"cuda\" if torch.cuda.is_available() else \"cpu\")"
   ]
  },
  {
   "cell_type": "code",
   "execution_count": 7,
   "id": "2277074c",
   "metadata": {
    "execution": {
     "iopub.execute_input": "2024-03-30T03:25:34.179217Z",
     "iopub.status.busy": "2024-03-30T03:25:34.178781Z",
     "iopub.status.idle": "2024-03-30T03:25:34.352826Z",
     "shell.execute_reply": "2024-03-30T03:25:34.351447Z"
    },
    "papermill": {
     "duration": 0.182166,
     "end_time": "2024-03-30T03:25:34.356089",
     "exception": false,
     "start_time": "2024-03-30T03:25:34.173923",
     "status": "completed"
    },
    "tags": []
   },
   "outputs": [
    {
     "name": "stderr",
     "output_type": "stream",
     "text": [
      "Special tokens have been added in the vocabulary, make sure the associated word embeddings are fine-tuned or trained.\n"
     ]
    }
   ],
   "source": [
    "tokenizer = AutoTokenizer.from_pretrained(base_model_name,trust_remote_code=True)\n",
    "if tokenizer.pad_token is None:\n",
    "    tokenizer.pad_token = tokenizer.eos_token"
   ]
  },
  {
   "cell_type": "code",
   "execution_count": 8,
   "id": "0f0def5e",
   "metadata": {
    "execution": {
     "iopub.execute_input": "2024-03-30T03:25:34.366099Z",
     "iopub.status.busy": "2024-03-30T03:25:34.365802Z",
     "iopub.status.idle": "2024-03-30T03:26:27.544708Z",
     "shell.execute_reply": "2024-03-30T03:26:27.543872Z"
    },
    "papermill": {
     "duration": 53.186332,
     "end_time": "2024-03-30T03:26:27.546974",
     "exception": false,
     "start_time": "2024-03-30T03:25:34.360642",
     "status": "completed"
    },
    "tags": []
   },
   "outputs": [
    {
     "data": {
      "application/vnd.jupyter.widget-view+json": {
       "model_id": "8ede2f3ba8bc400dadb455f3dc87eeac",
       "version_major": 2,
       "version_minor": 0
      },
      "text/plain": [
       "Loading checkpoint shards:   0%|          | 0/2 [00:00<?, ?it/s]"
      ]
     },
     "metadata": {},
     "output_type": "display_data"
    }
   ],
   "source": [
    "model = AutoModelForCausalLM.from_pretrained(base_model_name,trust_remote_code=True)\n",
    "model = PeftModel.from_pretrained(model, adapter_model_name)"
   ]
  },
  {
   "cell_type": "code",
   "execution_count": 9,
   "id": "f96d65c1",
   "metadata": {
    "execution": {
     "iopub.execute_input": "2024-03-30T03:26:27.557719Z",
     "iopub.status.busy": "2024-03-30T03:26:27.557390Z",
     "iopub.status.idle": "2024-03-30T03:26:30.672659Z",
     "shell.execute_reply": "2024-03-30T03:26:30.671619Z"
    },
    "papermill": {
     "duration": 3.122976,
     "end_time": "2024-03-30T03:26:30.674814",
     "exception": false,
     "start_time": "2024-03-30T03:26:27.551838",
     "status": "completed"
    },
    "tags": []
   },
   "outputs": [
    {
     "name": "stdout",
     "output_type": "stream",
     "text": [
      "model loaded !!\n"
     ]
    }
   ],
   "source": [
    "model.to(device)\n",
    "model.eval()\n",
    "print('model loaded !!')"
   ]
  },
  {
   "cell_type": "code",
   "execution_count": 10,
   "id": "3c9c1737",
   "metadata": {
    "execution": {
     "iopub.execute_input": "2024-03-30T03:26:30.685635Z",
     "iopub.status.busy": "2024-03-30T03:26:30.685308Z",
     "iopub.status.idle": "2024-03-30T03:26:30.692659Z",
     "shell.execute_reply": "2024-03-30T03:26:30.691840Z"
    },
    "papermill": {
     "duration": 0.014902,
     "end_time": "2024-03-30T03:26:30.694628",
     "exception": false,
     "start_time": "2024-03-30T03:26:30.679726",
     "status": "completed"
    },
    "tags": []
   },
   "outputs": [],
   "source": [
    "def text_generate(ori_text, rew_text, model, tokenizer, input_max_len=512, output_len=20, device='cuda'):\n",
    "    prompt = f\"Instruct: Original Text:{ori_text}\\nRewritten Text:{rew_text}\\nWrite a prompt that was likely given to the LLM to rewrite original text to rewritten text.\\nOutput:\"\n",
    "    inputs = tokenizer(prompt, max_length=input_max_len, truncation=True, return_tensors=\"pt\", return_attention_mask=False)\n",
    "    \n",
    "    input_token_len = len(inputs.input_ids[0])\n",
    "    inputs = {k:v.to(device) for k,v in inputs.items()}\n",
    "    max_len = input_token_len + output_len\n",
    "    outputs = model.generate(**inputs,\n",
    "                         do_sample=False,\n",
    "                         max_length=max_len,\n",
    "                         pad_token_id=tokenizer.pad_token_id,\n",
    "                         )\n",
    "    text = tokenizer.batch_decode(outputs,skip_special_tokens=True,clean_up_tokenization_spaces=False)[0]\n",
    "    start_index = text.find('Output:')\n",
    "    generated_text = text[start_index+len('Output:'):].strip()\n",
    "    return generated_text"
   ]
  },
  {
   "cell_type": "code",
   "execution_count": 11,
   "id": "09bd07ee",
   "metadata": {
    "execution": {
     "iopub.execute_input": "2024-03-30T03:26:30.705143Z",
     "iopub.status.busy": "2024-03-30T03:26:30.704847Z",
     "iopub.status.idle": "2024-03-30T03:26:30.708889Z",
     "shell.execute_reply": "2024-03-30T03:26:30.708096Z"
    },
    "papermill": {
     "duration": 0.011509,
     "end_time": "2024-03-30T03:26:30.710751",
     "exception": false,
     "start_time": "2024-03-30T03:26:30.699242",
     "status": "completed"
    },
    "tags": []
   },
   "outputs": [],
   "source": [
    "mean_prompt = \"'Please improve the following text using the writing style of, maintaining the original meaning but altering the tone, diction, and stylistic elements to match the new style.Enhance the clarity, elegance, and impact of the following text by adopting the writing style of , ensuring the core message remains intact while transforming the tone, word choice, and stylistic features to align with the specified style.'\""
   ]
  },
  {
   "cell_type": "code",
   "execution_count": 12,
   "id": "2e6c6dd9",
   "metadata": {
    "execution": {
     "iopub.execute_input": "2024-03-30T03:26:30.722381Z",
     "iopub.status.busy": "2024-03-30T03:26:30.722115Z",
     "iopub.status.idle": "2024-03-30T03:26:30.725773Z",
     "shell.execute_reply": "2024-03-30T03:26:30.724959Z"
    },
    "papermill": {
     "duration": 0.011051,
     "end_time": "2024-03-30T03:26:30.727649",
     "exception": false,
     "start_time": "2024-03-30T03:26:30.716598",
     "status": "completed"
    },
    "tags": []
   },
   "outputs": [],
   "source": [
    "rewrite_prompts = []"
   ]
  },
  {
   "cell_type": "code",
   "execution_count": 13,
   "id": "d5f24f5c",
   "metadata": {
    "execution": {
     "iopub.execute_input": "2024-03-30T03:26:30.738132Z",
     "iopub.status.busy": "2024-03-30T03:26:30.737865Z",
     "iopub.status.idle": "2024-03-30T03:26:37.799148Z",
     "shell.execute_reply": "2024-03-30T03:26:37.798225Z"
    },
    "papermill": {
     "duration": 7.069275,
     "end_time": "2024-03-30T03:26:37.801630",
     "exception": false,
     "start_time": "2024-03-30T03:26:30.732355",
     "status": "completed"
    },
    "tags": []
   },
   "outputs": [
    {
     "data": {
      "application/vnd.jupyter.widget-view+json": {
       "model_id": "183c704a88074af2b6c9ebdde5ce2fa4",
       "version_major": 2,
       "version_minor": 0
      },
      "text/plain": [
       "  0%|          | 0/1 [00:00<?, ?it/s]"
      ]
     },
     "metadata": {},
     "output_type": "display_data"
    }
   ],
   "source": [
    "for i, row in tqdm(test_df.iterrows(), total=len(test_df)):\n",
    "    prompt = mean_prompt\n",
    "    try:\n",
    "        prompt = text_generate(row['original_text'],\n",
    "                               row['rewritten_text'],\n",
    "                               model,\n",
    "                               tokenizer,\n",
    "                               input_token_len,\n",
    "                               output_token_len,\n",
    "                               device,\n",
    "                              )\n",
    "    except:\n",
    "        pass\n",
    "        \n",
    "    rewrite_prompts.append(prompt)"
   ]
  },
  {
   "cell_type": "code",
   "execution_count": 14,
   "id": "7ef6e679",
   "metadata": {
    "execution": {
     "iopub.execute_input": "2024-03-30T03:26:37.813881Z",
     "iopub.status.busy": "2024-03-30T03:26:37.813164Z",
     "iopub.status.idle": "2024-03-30T03:26:37.818337Z",
     "shell.execute_reply": "2024-03-30T03:26:37.817544Z"
    },
    "papermill": {
     "duration": 0.013113,
     "end_time": "2024-03-30T03:26:37.820255",
     "exception": false,
     "start_time": "2024-03-30T03:26:37.807142",
     "status": "completed"
    },
    "tags": []
   },
   "outputs": [],
   "source": [
    "test_df['rewrite_prompt'] = rewrite_prompts"
   ]
  },
  {
   "cell_type": "code",
   "execution_count": 15,
   "id": "8e3bf2e3",
   "metadata": {
    "execution": {
     "iopub.execute_input": "2024-03-30T03:26:37.831829Z",
     "iopub.status.busy": "2024-03-30T03:26:37.831204Z",
     "iopub.status.idle": "2024-03-30T03:26:37.844509Z",
     "shell.execute_reply": "2024-03-30T03:26:37.843392Z"
    },
    "papermill": {
     "duration": 0.021553,
     "end_time": "2024-03-30T03:26:37.846902",
     "exception": false,
     "start_time": "2024-03-30T03:26:37.825349",
     "status": "completed"
    },
    "tags": []
   },
   "outputs": [],
   "source": [
    "sub_df = test_df[['id', 'rewrite_prompt']]\n",
    "sub_df.to_csv('submission.csv', index=False)"
   ]
  }
 ],
 "metadata": {
  "kaggle": {
   "accelerator": "gpu",
   "dataSources": [
    {
     "databundleVersionId": 7806901,
     "sourceId": 67121,
     "sourceType": "competition"
    },
    {
     "datasetId": 3600418,
     "sourceId": 6572938,
     "sourceType": "datasetVersion"
    },
    {
     "sourceId": 164964691,
     "sourceType": "kernelVersion"
    },
    {
     "modelInstanceId": 8658,
     "sourceId": 10716,
     "sourceType": "modelInstanceVersion"
    },
    {
     "isSourceIdPinned": true,
     "modelInstanceId": 17852,
     "sourceId": 21555,
     "sourceType": "modelInstanceVersion"
    }
   ],
   "dockerImageVersionId": 30674,
   "isGpuEnabled": true,
   "isInternetEnabled": false,
   "language": "python",
   "sourceType": "notebook"
  },
  "kernelspec": {
   "display_name": "Python 3",
   "language": "python",
   "name": "python3"
  },
  "language_info": {
   "codemirror_mode": {
    "name": "ipython",
    "version": 3
   },
   "file_extension": ".py",
   "mimetype": "text/x-python",
   "name": "python",
   "nbconvert_exporter": "python",
   "pygments_lexer": "ipython3",
   "version": "3.10.13"
  },
  "papermill": {
   "default_parameters": {},
   "duration": 178.156707,
   "end_time": "2024-03-30T03:26:39.574885",
   "environment_variables": {},
   "exception": null,
   "input_path": "__notebook__.ipynb",
   "output_path": "__notebook__.ipynb",
   "parameters": {},
   "start_time": "2024-03-30T03:23:41.418178",
   "version": "2.5.0"
  },
  "widgets": {
   "application/vnd.jupyter.widget-state+json": {
    "state": {
     "08f0fff8be904f429a2bd440748b3826": {
      "model_module": "@jupyter-widgets/base",
      "model_module_version": "1.2.0",
      "model_name": "LayoutModel",
      "state": {
       "_model_module": "@jupyter-widgets/base",
       "_model_module_version": "1.2.0",
       "_model_name": "LayoutModel",
       "_view_count": null,
       "_view_module": "@jupyter-widgets/base",
       "_view_module_version": "1.2.0",
       "_view_name": "LayoutView",
       "align_content": null,
       "align_items": null,
       "align_self": null,
       "border": null,
       "bottom": null,
       "display": null,
       "flex": null,
       "flex_flow": null,
       "grid_area": null,
       "grid_auto_columns": null,
       "grid_auto_flow": null,
       "grid_auto_rows": null,
       "grid_column": null,
       "grid_gap": null,
       "grid_row": null,
       "grid_template_areas": null,
       "grid_template_columns": null,
       "grid_template_rows": null,
       "height": null,
       "justify_content": null,
       "justify_items": null,
       "left": null,
       "margin": null,
       "max_height": null,
       "max_width": null,
       "min_height": null,
       "min_width": null,
       "object_fit": null,
       "object_position": null,
       "order": null,
       "overflow": null,
       "overflow_x": null,
       "overflow_y": null,
       "padding": null,
       "right": null,
       "top": null,
       "visibility": null,
       "width": null
      }
     },
     "183c704a88074af2b6c9ebdde5ce2fa4": {
      "model_module": "@jupyter-widgets/controls",
      "model_module_version": "1.5.0",
      "model_name": "HBoxModel",
      "state": {
       "_dom_classes": [],
       "_model_module": "@jupyter-widgets/controls",
       "_model_module_version": "1.5.0",
       "_model_name": "HBoxModel",
       "_view_count": null,
       "_view_module": "@jupyter-widgets/controls",
       "_view_module_version": "1.5.0",
       "_view_name": "HBoxView",
       "box_style": "",
       "children": [
        "IPY_MODEL_78dda08fa7cb451c8eb52d9f4cf3135b",
        "IPY_MODEL_2f67140d297e44159d35c225d1e3766a",
        "IPY_MODEL_e866cfcabad84e66b4a652a433685810"
       ],
       "layout": "IPY_MODEL_a44c6e7b9cce46c6b894155689607df7"
      }
     },
     "18ac57e5500b42b3a72170a8413a654f": {
      "model_module": "@jupyter-widgets/controls",
      "model_module_version": "1.5.0",
      "model_name": "HTMLModel",
      "state": {
       "_dom_classes": [],
       "_model_module": "@jupyter-widgets/controls",
       "_model_module_version": "1.5.0",
       "_model_name": "HTMLModel",
       "_view_count": null,
       "_view_module": "@jupyter-widgets/controls",
       "_view_module_version": "1.5.0",
       "_view_name": "HTMLView",
       "description": "",
       "description_tooltip": null,
       "layout": "IPY_MODEL_9c50a899cf2d419b84fbe0127bb91bcf",
       "placeholder": "​",
       "style": "IPY_MODEL_a7a5617301bd442b88b5fc8f51a21660",
       "value": "Loading checkpoint shards: 100%"
      }
     },
     "1fbd3ac9e5d74603af62616c8ac2d9c9": {
      "model_module": "@jupyter-widgets/base",
      "model_module_version": "1.2.0",
      "model_name": "LayoutModel",
      "state": {
       "_model_module": "@jupyter-widgets/base",
       "_model_module_version": "1.2.0",
       "_model_name": "LayoutModel",
       "_view_count": null,
       "_view_module": "@jupyter-widgets/base",
       "_view_module_version": "1.2.0",
       "_view_name": "LayoutView",
       "align_content": null,
       "align_items": null,
       "align_self": null,
       "border": null,
       "bottom": null,
       "display": null,
       "flex": null,
       "flex_flow": null,
       "grid_area": null,
       "grid_auto_columns": null,
       "grid_auto_flow": null,
       "grid_auto_rows": null,
       "grid_column": null,
       "grid_gap": null,
       "grid_row": null,
       "grid_template_areas": null,
       "grid_template_columns": null,
       "grid_template_rows": null,
       "height": null,
       "justify_content": null,
       "justify_items": null,
       "left": null,
       "margin": null,
       "max_height": null,
       "max_width": null,
       "min_height": null,
       "min_width": null,
       "object_fit": null,
       "object_position": null,
       "order": null,
       "overflow": null,
       "overflow_x": null,
       "overflow_y": null,
       "padding": null,
       "right": null,
       "top": null,
       "visibility": null,
       "width": null
      }
     },
     "2f67140d297e44159d35c225d1e3766a": {
      "model_module": "@jupyter-widgets/controls",
      "model_module_version": "1.5.0",
      "model_name": "FloatProgressModel",
      "state": {
       "_dom_classes": [],
       "_model_module": "@jupyter-widgets/controls",
       "_model_module_version": "1.5.0",
       "_model_name": "FloatProgressModel",
       "_view_count": null,
       "_view_module": "@jupyter-widgets/controls",
       "_view_module_version": "1.5.0",
       "_view_name": "ProgressView",
       "bar_style": "success",
       "description": "",
       "description_tooltip": null,
       "layout": "IPY_MODEL_d75ec193f7b64751b7754584c877120b",
       "max": 1.0,
       "min": 0.0,
       "orientation": "horizontal",
       "style": "IPY_MODEL_952fa08f4bff4c19ae9831af3dd56244",
       "value": 1.0
      }
     },
     "419df50d336f47a3ba909d0317a146d0": {
      "model_module": "@jupyter-widgets/base",
      "model_module_version": "1.2.0",
      "model_name": "LayoutModel",
      "state": {
       "_model_module": "@jupyter-widgets/base",
       "_model_module_version": "1.2.0",
       "_model_name": "LayoutModel",
       "_view_count": null,
       "_view_module": "@jupyter-widgets/base",
       "_view_module_version": "1.2.0",
       "_view_name": "LayoutView",
       "align_content": null,
       "align_items": null,
       "align_self": null,
       "border": null,
       "bottom": null,
       "display": null,
       "flex": null,
       "flex_flow": null,
       "grid_area": null,
       "grid_auto_columns": null,
       "grid_auto_flow": null,
       "grid_auto_rows": null,
       "grid_column": null,
       "grid_gap": null,
       "grid_row": null,
       "grid_template_areas": null,
       "grid_template_columns": null,
       "grid_template_rows": null,
       "height": null,
       "justify_content": null,
       "justify_items": null,
       "left": null,
       "margin": null,
       "max_height": null,
       "max_width": null,
       "min_height": null,
       "min_width": null,
       "object_fit": null,
       "object_position": null,
       "order": null,
       "overflow": null,
       "overflow_x": null,
       "overflow_y": null,
       "padding": null,
       "right": null,
       "top": null,
       "visibility": null,
       "width": null
      }
     },
     "4add773cc5cd44c4abb8ff157ccd7a6d": {
      "model_module": "@jupyter-widgets/controls",
      "model_module_version": "1.5.0",
      "model_name": "HTMLModel",
      "state": {
       "_dom_classes": [],
       "_model_module": "@jupyter-widgets/controls",
       "_model_module_version": "1.5.0",
       "_model_name": "HTMLModel",
       "_view_count": null,
       "_view_module": "@jupyter-widgets/controls",
       "_view_module_version": "1.5.0",
       "_view_name": "HTMLView",
       "description": "",
       "description_tooltip": null,
       "layout": "IPY_MODEL_f4baa4969a1b4540bd6f65f4e20f1e5c",
       "placeholder": "​",
       "style": "IPY_MODEL_5911f4b333a048cd8afb86fbd016597a",
       "value": " 2/2 [00:39&lt;00:00, 16.88s/it]"
      }
     },
     "5911f4b333a048cd8afb86fbd016597a": {
      "model_module": "@jupyter-widgets/controls",
      "model_module_version": "1.5.0",
      "model_name": "DescriptionStyleModel",
      "state": {
       "_model_module": "@jupyter-widgets/controls",
       "_model_module_version": "1.5.0",
       "_model_name": "DescriptionStyleModel",
       "_view_count": null,
       "_view_module": "@jupyter-widgets/base",
       "_view_module_version": "1.2.0",
       "_view_name": "StyleView",
       "description_width": ""
      }
     },
     "78dda08fa7cb451c8eb52d9f4cf3135b": {
      "model_module": "@jupyter-widgets/controls",
      "model_module_version": "1.5.0",
      "model_name": "HTMLModel",
      "state": {
       "_dom_classes": [],
       "_model_module": "@jupyter-widgets/controls",
       "_model_module_version": "1.5.0",
       "_model_name": "HTMLModel",
       "_view_count": null,
       "_view_module": "@jupyter-widgets/controls",
       "_view_module_version": "1.5.0",
       "_view_name": "HTMLView",
       "description": "",
       "description_tooltip": null,
       "layout": "IPY_MODEL_08f0fff8be904f429a2bd440748b3826",
       "placeholder": "​",
       "style": "IPY_MODEL_c7027b02b7b44ad4960005fe65ae26d0",
       "value": "100%"
      }
     },
     "8ede2f3ba8bc400dadb455f3dc87eeac": {
      "model_module": "@jupyter-widgets/controls",
      "model_module_version": "1.5.0",
      "model_name": "HBoxModel",
      "state": {
       "_dom_classes": [],
       "_model_module": "@jupyter-widgets/controls",
       "_model_module_version": "1.5.0",
       "_model_name": "HBoxModel",
       "_view_count": null,
       "_view_module": "@jupyter-widgets/controls",
       "_view_module_version": "1.5.0",
       "_view_name": "HBoxView",
       "box_style": "",
       "children": [
        "IPY_MODEL_18ac57e5500b42b3a72170a8413a654f",
        "IPY_MODEL_f2d18a41bbfc414d8f4542f0019e876f",
        "IPY_MODEL_4add773cc5cd44c4abb8ff157ccd7a6d"
       ],
       "layout": "IPY_MODEL_419df50d336f47a3ba909d0317a146d0"
      }
     },
     "952fa08f4bff4c19ae9831af3dd56244": {
      "model_module": "@jupyter-widgets/controls",
      "model_module_version": "1.5.0",
      "model_name": "ProgressStyleModel",
      "state": {
       "_model_module": "@jupyter-widgets/controls",
       "_model_module_version": "1.5.0",
       "_model_name": "ProgressStyleModel",
       "_view_count": null,
       "_view_module": "@jupyter-widgets/base",
       "_view_module_version": "1.2.0",
       "_view_name": "StyleView",
       "bar_color": null,
       "description_width": ""
      }
     },
     "9c50a899cf2d419b84fbe0127bb91bcf": {
      "model_module": "@jupyter-widgets/base",
      "model_module_version": "1.2.0",
      "model_name": "LayoutModel",
      "state": {
       "_model_module": "@jupyter-widgets/base",
       "_model_module_version": "1.2.0",
       "_model_name": "LayoutModel",
       "_view_count": null,
       "_view_module": "@jupyter-widgets/base",
       "_view_module_version": "1.2.0",
       "_view_name": "LayoutView",
       "align_content": null,
       "align_items": null,
       "align_self": null,
       "border": null,
       "bottom": null,
       "display": null,
       "flex": null,
       "flex_flow": null,
       "grid_area": null,
       "grid_auto_columns": null,
       "grid_auto_flow": null,
       "grid_auto_rows": null,
       "grid_column": null,
       "grid_gap": null,
       "grid_row": null,
       "grid_template_areas": null,
       "grid_template_columns": null,
       "grid_template_rows": null,
       "height": null,
       "justify_content": null,
       "justify_items": null,
       "left": null,
       "margin": null,
       "max_height": null,
       "max_width": null,
       "min_height": null,
       "min_width": null,
       "object_fit": null,
       "object_position": null,
       "order": null,
       "overflow": null,
       "overflow_x": null,
       "overflow_y": null,
       "padding": null,
       "right": null,
       "top": null,
       "visibility": null,
       "width": null
      }
     },
     "a44c6e7b9cce46c6b894155689607df7": {
      "model_module": "@jupyter-widgets/base",
      "model_module_version": "1.2.0",
      "model_name": "LayoutModel",
      "state": {
       "_model_module": "@jupyter-widgets/base",
       "_model_module_version": "1.2.0",
       "_model_name": "LayoutModel",
       "_view_count": null,
       "_view_module": "@jupyter-widgets/base",
       "_view_module_version": "1.2.0",
       "_view_name": "LayoutView",
       "align_content": null,
       "align_items": null,
       "align_self": null,
       "border": null,
       "bottom": null,
       "display": null,
       "flex": null,
       "flex_flow": null,
       "grid_area": null,
       "grid_auto_columns": null,
       "grid_auto_flow": null,
       "grid_auto_rows": null,
       "grid_column": null,
       "grid_gap": null,
       "grid_row": null,
       "grid_template_areas": null,
       "grid_template_columns": null,
       "grid_template_rows": null,
       "height": null,
       "justify_content": null,
       "justify_items": null,
       "left": null,
       "margin": null,
       "max_height": null,
       "max_width": null,
       "min_height": null,
       "min_width": null,
       "object_fit": null,
       "object_position": null,
       "order": null,
       "overflow": null,
       "overflow_x": null,
       "overflow_y": null,
       "padding": null,
       "right": null,
       "top": null,
       "visibility": null,
       "width": null
      }
     },
     "a7a5617301bd442b88b5fc8f51a21660": {
      "model_module": "@jupyter-widgets/controls",
      "model_module_version": "1.5.0",
      "model_name": "DescriptionStyleModel",
      "state": {
       "_model_module": "@jupyter-widgets/controls",
       "_model_module_version": "1.5.0",
       "_model_name": "DescriptionStyleModel",
       "_view_count": null,
       "_view_module": "@jupyter-widgets/base",
       "_view_module_version": "1.2.0",
       "_view_name": "StyleView",
       "description_width": ""
      }
     },
     "b733516b49ef44ab8d925417eb551ed8": {
      "model_module": "@jupyter-widgets/controls",
      "model_module_version": "1.5.0",
      "model_name": "DescriptionStyleModel",
      "state": {
       "_model_module": "@jupyter-widgets/controls",
       "_model_module_version": "1.5.0",
       "_model_name": "DescriptionStyleModel",
       "_view_count": null,
       "_view_module": "@jupyter-widgets/base",
       "_view_module_version": "1.2.0",
       "_view_name": "StyleView",
       "description_width": ""
      }
     },
     "bab1fd5c2c474969976346f97b682a3b": {
      "model_module": "@jupyter-widgets/base",
      "model_module_version": "1.2.0",
      "model_name": "LayoutModel",
      "state": {
       "_model_module": "@jupyter-widgets/base",
       "_model_module_version": "1.2.0",
       "_model_name": "LayoutModel",
       "_view_count": null,
       "_view_module": "@jupyter-widgets/base",
       "_view_module_version": "1.2.0",
       "_view_name": "LayoutView",
       "align_content": null,
       "align_items": null,
       "align_self": null,
       "border": null,
       "bottom": null,
       "display": null,
       "flex": null,
       "flex_flow": null,
       "grid_area": null,
       "grid_auto_columns": null,
       "grid_auto_flow": null,
       "grid_auto_rows": null,
       "grid_column": null,
       "grid_gap": null,
       "grid_row": null,
       "grid_template_areas": null,
       "grid_template_columns": null,
       "grid_template_rows": null,
       "height": null,
       "justify_content": null,
       "justify_items": null,
       "left": null,
       "margin": null,
       "max_height": null,
       "max_width": null,
       "min_height": null,
       "min_width": null,
       "object_fit": null,
       "object_position": null,
       "order": null,
       "overflow": null,
       "overflow_x": null,
       "overflow_y": null,
       "padding": null,
       "right": null,
       "top": null,
       "visibility": null,
       "width": null
      }
     },
     "c7027b02b7b44ad4960005fe65ae26d0": {
      "model_module": "@jupyter-widgets/controls",
      "model_module_version": "1.5.0",
      "model_name": "DescriptionStyleModel",
      "state": {
       "_model_module": "@jupyter-widgets/controls",
       "_model_module_version": "1.5.0",
       "_model_name": "DescriptionStyleModel",
       "_view_count": null,
       "_view_module": "@jupyter-widgets/base",
       "_view_module_version": "1.2.0",
       "_view_name": "StyleView",
       "description_width": ""
      }
     },
     "ca33d475a41c4836a8d157f7ce0aaad7": {
      "model_module": "@jupyter-widgets/controls",
      "model_module_version": "1.5.0",
      "model_name": "ProgressStyleModel",
      "state": {
       "_model_module": "@jupyter-widgets/controls",
       "_model_module_version": "1.5.0",
       "_model_name": "ProgressStyleModel",
       "_view_count": null,
       "_view_module": "@jupyter-widgets/base",
       "_view_module_version": "1.2.0",
       "_view_name": "StyleView",
       "bar_color": null,
       "description_width": ""
      }
     },
     "d75ec193f7b64751b7754584c877120b": {
      "model_module": "@jupyter-widgets/base",
      "model_module_version": "1.2.0",
      "model_name": "LayoutModel",
      "state": {
       "_model_module": "@jupyter-widgets/base",
       "_model_module_version": "1.2.0",
       "_model_name": "LayoutModel",
       "_view_count": null,
       "_view_module": "@jupyter-widgets/base",
       "_view_module_version": "1.2.0",
       "_view_name": "LayoutView",
       "align_content": null,
       "align_items": null,
       "align_self": null,
       "border": null,
       "bottom": null,
       "display": null,
       "flex": null,
       "flex_flow": null,
       "grid_area": null,
       "grid_auto_columns": null,
       "grid_auto_flow": null,
       "grid_auto_rows": null,
       "grid_column": null,
       "grid_gap": null,
       "grid_row": null,
       "grid_template_areas": null,
       "grid_template_columns": null,
       "grid_template_rows": null,
       "height": null,
       "justify_content": null,
       "justify_items": null,
       "left": null,
       "margin": null,
       "max_height": null,
       "max_width": null,
       "min_height": null,
       "min_width": null,
       "object_fit": null,
       "object_position": null,
       "order": null,
       "overflow": null,
       "overflow_x": null,
       "overflow_y": null,
       "padding": null,
       "right": null,
       "top": null,
       "visibility": null,
       "width": null
      }
     },
     "e866cfcabad84e66b4a652a433685810": {
      "model_module": "@jupyter-widgets/controls",
      "model_module_version": "1.5.0",
      "model_name": "HTMLModel",
      "state": {
       "_dom_classes": [],
       "_model_module": "@jupyter-widgets/controls",
       "_model_module_version": "1.5.0",
       "_model_name": "HTMLModel",
       "_view_count": null,
       "_view_module": "@jupyter-widgets/controls",
       "_view_module_version": "1.5.0",
       "_view_name": "HTMLView",
       "description": "",
       "description_tooltip": null,
       "layout": "IPY_MODEL_1fbd3ac9e5d74603af62616c8ac2d9c9",
       "placeholder": "​",
       "style": "IPY_MODEL_b733516b49ef44ab8d925417eb551ed8",
       "value": " 1/1 [00:07&lt;00:00,  7.05s/it]"
      }
     },
     "f2d18a41bbfc414d8f4542f0019e876f": {
      "model_module": "@jupyter-widgets/controls",
      "model_module_version": "1.5.0",
      "model_name": "FloatProgressModel",
      "state": {
       "_dom_classes": [],
       "_model_module": "@jupyter-widgets/controls",
       "_model_module_version": "1.5.0",
       "_model_name": "FloatProgressModel",
       "_view_count": null,
       "_view_module": "@jupyter-widgets/controls",
       "_view_module_version": "1.5.0",
       "_view_name": "ProgressView",
       "bar_style": "success",
       "description": "",
       "description_tooltip": null,
       "layout": "IPY_MODEL_bab1fd5c2c474969976346f97b682a3b",
       "max": 2.0,
       "min": 0.0,
       "orientation": "horizontal",
       "style": "IPY_MODEL_ca33d475a41c4836a8d157f7ce0aaad7",
       "value": 2.0
      }
     },
     "f4baa4969a1b4540bd6f65f4e20f1e5c": {
      "model_module": "@jupyter-widgets/base",
      "model_module_version": "1.2.0",
      "model_name": "LayoutModel",
      "state": {
       "_model_module": "@jupyter-widgets/base",
       "_model_module_version": "1.2.0",
       "_model_name": "LayoutModel",
       "_view_count": null,
       "_view_module": "@jupyter-widgets/base",
       "_view_module_version": "1.2.0",
       "_view_name": "LayoutView",
       "align_content": null,
       "align_items": null,
       "align_self": null,
       "border": null,
       "bottom": null,
       "display": null,
       "flex": null,
       "flex_flow": null,
       "grid_area": null,
       "grid_auto_columns": null,
       "grid_auto_flow": null,
       "grid_auto_rows": null,
       "grid_column": null,
       "grid_gap": null,
       "grid_row": null,
       "grid_template_areas": null,
       "grid_template_columns": null,
       "grid_template_rows": null,
       "height": null,
       "justify_content": null,
       "justify_items": null,
       "left": null,
       "margin": null,
       "max_height": null,
       "max_width": null,
       "min_height": null,
       "min_width": null,
       "object_fit": null,
       "object_position": null,
       "order": null,
       "overflow": null,
       "overflow_x": null,
       "overflow_y": null,
       "padding": null,
       "right": null,
       "top": null,
       "visibility": null,
       "width": null
      }
     }
    },
    "version_major": 2,
    "version_minor": 0
   }
  }
 },
 "nbformat": 4,
 "nbformat_minor": 5
}
