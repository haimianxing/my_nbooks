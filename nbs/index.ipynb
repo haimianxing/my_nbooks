{
 "cells": [
  {
   "cell_type": "code",
   "execution_count": null,
   "metadata": {},
   "outputs": [],
   "source": [
    "#| default_exp core\n",
    "%load_ext autoreload\n",
    "%autoreload 2"
   ]
  },
  {
   "cell_type": "code",
   "execution_count": null,
   "metadata": {},
   "outputs": [],
   "source": [
    "#| hide\n",
    "from my_nbooks.core import *"
   ]
  },
  {
   "cell_type": "markdown",
   "metadata": {},
   "source": [
    "# my_nbooks\n",
    "\n",
    "> my kaggle ,deep ,machine algorithm repo"
   ]
  },
  {
   "cell_type": "markdown",
   "metadata": {},
   "source": [
    "This file will become your README and also the index of your documentation."
   ]
  },
  {
   "cell_type": "markdown",
   "metadata": {},
   "source": [
    "## Install"
   ]
  },
  {
   "cell_type": "markdown",
   "metadata": {},
   "source": [
    "```sh\n",
    "pip install my_nbooks\n",
    "```"
   ]
  },
  {
   "cell_type": "markdown",
   "metadata": {},
   "source": [
    "## How to use"
   ]
  },
  {
   "cell_type": "markdown",
   "metadata": {},
   "source": [
    "Fill me in please! Don't forget code examples:"
   ]
  },
  {
   "cell_type": "code",
   "execution_count": null,
   "metadata": {},
   "outputs": [],
   "source": []
  },
  {
   "cell_type": "code",
   "execution_count": null,
   "metadata": {},
   "outputs": [
    {
     "data": {
      "text/plain": [
       "'C:\\\\Users\\\\Administrator\\\\Documents\\\\WeChat Files\\\\wxid_fje5vggkvjg912\\\\FileStorage\\\\File\\\\2024-06\\\\my_nbooks\\\\my_nbooks\\\\nbs'"
      ]
     },
     "execution_count": null,
     "metadata": {},
     "output_type": "execute_result"
    }
   ],
   "source": [
    "import os\n",
    "os.getcwd()"
   ]
  },
  {
   "cell_type": "code",
   "execution_count": null,
   "metadata": {},
   "outputs": [],
   "source": [
    "import sys\n",
    "\n",
    "# sys.path.append('e:\\\\proj\\\\my_nbooks\\\\my_nbooks\\\\core.py')"
   ]
  },
  {
   "cell_type": "code",
   "execution_count": null,
   "metadata": {},
   "outputs": [
    {
     "data": {
      "text/plain": [
       "['D:\\\\programesx64\\\\Anaconda3\\\\envs\\\\mykaggle\\\\python39.zip',\n",
       " 'D:\\\\programesx64\\\\Anaconda3\\\\envs\\\\mykaggle\\\\DLLs',\n",
       " 'D:\\\\programesx64\\\\Anaconda3\\\\envs\\\\mykaggle\\\\lib',\n",
       " 'D:\\\\programesx64\\\\Anaconda3\\\\envs\\\\mykaggle',\n",
       " '',\n",
       " 'C:\\\\Users\\\\Administrator\\\\AppData\\\\Roaming\\\\Python\\\\Python39\\\\site-packages',\n",
       " 'D:\\\\programesx64\\\\Anaconda3\\\\envs\\\\mykaggle\\\\lib\\\\site-packages',\n",
       " 'e:\\\\proj\\\\my_nbooks',\n",
       " 'D:\\\\programesx64\\\\Anaconda3\\\\envs\\\\mykaggle\\\\lib\\\\site-packages\\\\win32',\n",
       " 'D:\\\\programesx64\\\\Anaconda3\\\\envs\\\\mykaggle\\\\lib\\\\site-packages\\\\win32\\\\lib',\n",
       " 'D:\\\\programesx64\\\\Anaconda3\\\\envs\\\\mykaggle\\\\lib\\\\site-packages\\\\Pythonwin']"
      ]
     },
     "execution_count": null,
     "metadata": {},
     "output_type": "execute_result"
    }
   ],
   "source": [
    "sys.path"
   ]
  },
  {
   "cell_type": "code",
   "execution_count": null,
   "metadata": {},
   "outputs": [
    {
     "data": {
      "text/plain": [
       "''"
      ]
     },
     "execution_count": null,
     "metadata": {},
     "output_type": "execute_result"
    }
   ],
   "source": [
    "# code_extract2('[INST]Write Python code to solve this problem in a brute force manner. You will only print the final result.\\n\\nFind the largest two digit prime number which is also a prime number when the digits are reversed.\\n\\nReminder: You will write Python code. You do not care about the efficiency of the solution, you will only care about the correctness.[/INST] Here is a brute force solution to find the largest two digit prime number which is also a prime number when the digits are reversed:\\n\\n```python\\ndef is\\\\_prime(n):\\nfor i in range(2, int(n**0.5) + 1):\\nif n % i == 0:\\nreturn False\\nreturn True\\n\\nlargest\\\\_prime = -1\\n')"
   ]
  },
  {
   "cell_type": "code",
   "execution_count": null,
   "metadata": {},
   "outputs": [
    {
     "name": "stdout",
     "output_type": "stream",
     "text": [
      "1152\n"
     ]
    }
   ],
   "source": []
  },
  {
   "cell_type": "code",
   "execution_count": null,
   "metadata": {},
   "outputs": [],
   "source": [
    "#| hide\n",
    "import nbdev; nbdev.nbdev_export()"
   ]
  },
  {
   "cell_type": "code",
   "execution_count": null,
   "metadata": {},
   "outputs": [],
   "source": []
  }
 ],
 "metadata": {
  "kernelspec": {
   "display_name": "Python 3 (ipykernel)",
   "language": "python",
   "name": "python3"
  },
  "language_info": {
   "codemirror_mode": {
    "name": "ipython",
    "version": 3
   },
   "file_extension": ".py",
   "mimetype": "text/x-python",
   "name": "python",
   "nbconvert_exporter": "python",
   "pygments_lexer": "ipython3",
   "version": "3.11.7"
  }
 },
 "nbformat": 4,
 "nbformat_minor": 4
}
