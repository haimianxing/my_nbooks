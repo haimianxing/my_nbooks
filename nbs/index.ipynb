{
 "cells": [
  {
   "cell_type": "code",
   "execution_count": 32,
   "metadata": {},
   "outputs": [],
   "source": [
    "#| default_exp core\n",
    "%load_ext autoreload\n",
    "%autoreload 2"
   ]
  },
  {
   "cell_type": "code",
   "execution_count": 33,
   "metadata": {},
   "outputs": [],
   "source": [
    "#| hide\n",
    "from my_nbooks.core import *"
   ]
  },
  {
   "cell_type": "markdown",
   "metadata": {},
   "source": [
    "# my_nbooks\n",
    "\n",
    "> my kaggle ,deep ,machine algorithm repo"
   ]
  },
  {
   "cell_type": "markdown",
   "metadata": {},
   "source": [
    "This file will become your README and also the index of your documentation."
   ]
  },
  {
   "cell_type": "markdown",
   "metadata": {},
   "source": [
    "## Install"
   ]
  },
  {
   "cell_type": "markdown",
   "metadata": {},
   "source": [
    "```sh\n",
    "pip install my_nbooks\n",
    "```"
   ]
  },
  {
   "cell_type": "markdown",
   "metadata": {},
   "source": [
    "## How to use"
   ]
  },
  {
   "cell_type": "markdown",
   "metadata": {},
   "source": [
    "Fill me in please! Don't forget code examples:"
   ]
  },
  {
   "cell_type": "code",
   "execution_count": 36,
   "metadata": {},
   "outputs": [
    {
     "data": {
      "text/plain": [
       "'Hello 11!'"
      ]
     },
     "execution_count": 36,
     "metadata": {},
     "output_type": "execute_result"
    }
   ],
   "source": [
    "say_hello('11')"
   ]
  },
  {
   "cell_type": "code",
   "execution_count": 40,
   "metadata": {},
   "outputs": [
    {
     "data": {
      "text/plain": [
       "'C:\\\\Users\\\\Administrator\\\\Documents\\\\WeChat Files\\\\wxid_fje5vggkvjg912\\\\FileStorage\\\\File\\\\2024-06\\\\my_nbooks\\\\my_nbooks\\\\nbs'"
      ]
     },
     "execution_count": 40,
     "metadata": {},
     "output_type": "execute_result"
    }
   ],
   "source": [
    "import os\n",
    "os.getcwd()"
   ]
  },
  {
   "cell_type": "code",
   "execution_count": 47,
   "metadata": {},
   "outputs": [
    {
     "data": {
      "text/plain": [
       "['D:\\\\programesx64\\\\Anaconda3\\\\envs\\\\mykaggle\\\\python39.zip',\n",
       " 'D:\\\\programesx64\\\\Anaconda3\\\\envs\\\\mykaggle\\\\DLLs',\n",
       " 'D:\\\\programesx64\\\\Anaconda3\\\\envs\\\\mykaggle\\\\lib',\n",
       " 'D:\\\\programesx64\\\\Anaconda3\\\\envs\\\\mykaggle',\n",
       " '',\n",
       " 'C:\\\\Users\\\\Administrator\\\\AppData\\\\Roaming\\\\Python\\\\Python39\\\\site-packages',\n",
       " 'D:\\\\programesx64\\\\Anaconda3\\\\envs\\\\mykaggle\\\\lib\\\\site-packages',\n",
       " 'e:\\\\proj\\\\my_nbooks',\n",
       " 'D:\\\\programesx64\\\\Anaconda3\\\\envs\\\\mykaggle\\\\lib\\\\site-packages\\\\win32',\n",
       " 'D:\\\\programesx64\\\\Anaconda3\\\\envs\\\\mykaggle\\\\lib\\\\site-packages\\\\win32\\\\lib',\n",
       " 'D:\\\\programesx64\\\\Anaconda3\\\\envs\\\\mykaggle\\\\lib\\\\site-packages\\\\Pythonwin',\n",
       " 'C:\\\\Users\\\\Administrator\\\\Documents\\\\WeChat Files\\\\wxid_fje5vggkvjg912\\\\FileStorage\\\\File\\\\2024-06\\\\my_nbooks\\\\my_nbooks\\\\nbs\\\\00_core_bk.ipynb',\n",
       " 'C:\\\\Users\\\\Administrator\\\\Documents\\\\WeChat Files\\\\wxid_fje5vggkvjg912\\\\FileStorage\\\\File\\\\2024-06\\\\my_nbooks\\\\my_nbooks\\\\nbs\\\\00_core_bk',\n",
       " '\\\\00_core_bk.ipynb']"
      ]
     },
     "execution_count": 47,
     "metadata": {},
     "output_type": "execute_result"
    }
   ],
   "source": [
    "import sys\n",
    "sys.path\n",
    "# sys.path.append('\\\\00_core_bk.ipynb')"
   ]
  },
  {
   "cell_type": "code",
   "execution_count": null,
   "metadata": {},
   "outputs": [],
   "source": [
    "from "
   ]
  },
  {
   "cell_type": "code",
   "execution_count": 46,
   "metadata": {},
   "outputs": [
    {
     "ename": "NameError",
     "evalue": "name 'say' is not defined",
     "output_type": "error",
     "traceback": [
      "\u001b[1;31m---------------------------------------------------------------------------\u001b[0m",
      "\u001b[1;31mNameError\u001b[0m                                 Traceback (most recent call last)",
      "Cell \u001b[1;32mIn[46], line 1\u001b[0m\n\u001b[1;32m----> 1\u001b[0m \u001b[43msay\u001b[49m(\u001b[38;5;241m11\u001b[39m)\n",
      "\u001b[1;31mNameError\u001b[0m: name 'say' is not defined"
     ]
    }
   ],
   "source": [
    "say(11)"
   ]
  },
  {
   "cell_type": "code",
   "execution_count": 34,
   "metadata": {},
   "outputs": [],
   "source": [
    "#| hide\n",
    "import nbdev; nbdev.nbdev_export()"
   ]
  },
  {
   "cell_type": "code",
   "execution_count": null,
   "metadata": {},
   "outputs": [],
   "source": []
  }
 ],
 "metadata": {
  "kernelspec": {
   "display_name": "Python 3 (ipykernel)",
   "language": "python",
   "name": "python3"
  },
  "language_info": {
   "codemirror_mode": {
    "name": "ipython",
    "version": 3
   },
   "file_extension": ".py",
   "mimetype": "text/x-python",
   "name": "python",
   "nbconvert_exporter": "python",
   "pygments_lexer": "ipython3",
   "version": "3.9.19"
  }
 },
 "nbformat": 4,
 "nbformat_minor": 4
}
