{
 "cells": [
  {
   "cell_type": "markdown",
   "metadata": {},
   "source": [
    "# core\n",
    "\n",
    "> SFT LLM"
   ]
  },
  {
   "cell_type": "code",
   "execution_count": null,
   "metadata": {},
   "outputs": [],
   "source": [
    "#| default_exp core\n",
    "%load_ext autoreload\n",
    "%autoreload 2"
   ]
  },
  {
   "cell_type": "code",
   "execution_count": null,
   "metadata": {},
   "outputs": [],
   "source": [
    "#| hide\n",
    "from nbdev.showdoc import *"
   ]
  },
  {
   "cell_type": "markdown",
   "metadata": {},
   "source": [
    "# Phi2 SFT training baseline\n",
    "data\n",
    "use all public data, but I dropped the dupilcate rewrite prompts.\n",
    "\n",
    "hyperparamters\n",
    "epoch: 5\n",
    "\n",
    "batch size: 2\n",
    "\n",
    "gradient_accumulation_steps: 8\n",
    "\n",
    "max_seq_length: 1024\n",
    "\n",
    "learing rate: 1e-4\n",
    "\n",
    "inference notebook click here"
   ]
  },
  {
   "cell_type": "code",
   "execution_count": null,
   "metadata": {},
   "outputs": [],
   "source": [
    "def train_phi():\n",
    "    exp_name = 'phi2_public_data_sft'\n",
    "    data_path = '/kaggle/input/llmpr-public-10k-unique/public_10k_unique_rewrite_prompt.csv'\n",
    "    model_path = '/kaggle/input/phi/transformers/2/1'\n",
    "    output_path = f'outputs'\n",
    "    model_save_path =  f'{exp_name}_adapter'\n",
    "\n",
    "    epochs=5\n",
    "    batch_size=1 # 2 \n",
    "    max_seq_length=512 # 1024 \n",
    "    lr = 1e-4\n",
    "\n",
    "    tokenizer = AutoTokenizer.from_pretrained(\n",
    "        model_path,\n",
    "        )\n",
    "    tokenizer.pad_token = tokenizer.eos_token\n",
    "\n",
    "\n",
    "    bnb_config = BitsAndBytesConfig(\n",
    "            load_in_4bit=True,\n",
    "            bnb_4bit_quant_type='nf4',\n",
    "            bnb_4bit_compute_dtype='float16',\n",
    "            bnb_4bit_use_double_quant=False,\n",
    "        )\n",
    "\n",
    "    model = AutoModelForCausalLM.from_pretrained(model_path,\n",
    "                                                 quantization_config=bnb_config,\n",
    "                                                 trust_remote_code=True,\n",
    "                                                 use_auth_token=True)\n",
    "\n",
    "    model.config.gradient_checkpointing = False\n",
    "\n",
    "    def token_len(text):\n",
    "        tokenized = tokenizer(text, return_length=True)\n",
    "        length = tokenized['length'][0]\n",
    "        return length\n",
    "        \n",
    "    def formatting_prompts_func(example):\n",
    "        output_texts = []\n",
    "        for i in range(len(example['rewritten_text'])):\n",
    "            ori_text = example['original_text'][i]\n",
    "            rew_text = example['rewritten_text'][i]\n",
    "            rew_prompt = example['rewrite_prompt'][i]\n",
    "            text = f\"Instruct: Original Text:{ori_text}\\nRewritten Text:{rew_text}\\nWrite a prompt that was likely given to the LLM to rewrite original text into rewritten text.Output: {rew_prompt}\"\n",
    "            if token_len(text) > max_seq_length:\n",
    "                continue\n",
    "            output_texts.append(text)\n",
    "        return output_texts\n",
    "\n",
    "    response_template = \"Output:\"\n",
    "    collator = DataCollatorForCompletionOnlyLM(response_template=response_template, \n",
    "                                               tokenizer=tokenizer)\n",
    "\n",
    "    peft_config = LoraConfig(\n",
    "        r=16,\n",
    "        lora_alpha=32,\n",
    "        lora_dropout=0.05,\n",
    "        bias=\"none\",\n",
    "        task_type=\"CAUSAL_LM\",\n",
    "        target_modules= [\"q_proj\", \"k_proj\", \"v_proj\", \"dense\"],\n",
    "    )\n",
    "    \n",
    "    args = TrainingArguments(\n",
    "        output_dir = output_path,\n",
    "        fp16=True,\n",
    "        learning_rate=lr,\n",
    "        optim=\"adafactor\",\n",
    "        num_train_epochs=epochs,\n",
    "        per_device_train_batch_size=batch_size,\n",
    "        per_device_eval_batch_size=batch_size*2,\n",
    "        gradient_accumulation_steps=8,\n",
    "        evaluation_strategy=\"epoch\",\n",
    "        save_strategy=\"epoch\",\n",
    "        save_total_limit=1,\n",
    "        logging_steps=50,\n",
    "        lr_scheduler_type=\"cosine\",\n",
    "        warmup_ratio=0.1,\n",
    "        weight_decay=0.01,\n",
    "        report_to='none',\n",
    "        load_best_model_at_end=True,\n",
    "        metric_for_best_model=\"eval_loss\",\n",
    "        )\n",
    "    \n",
    "    \n",
    "    trainer = SFTTrainer(\n",
    "        model=model,\n",
    "        args = args,\n",
    "        max_seq_length=max_seq_length,\n",
    "        train_dataset=train_ds,\n",
    "        eval_dataset=val_ds,\n",
    "        formatting_func=formatting_prompts_func,\n",
    "        data_collator=collator,\n",
    "        peft_config=peft_config,\n",
    "    )\n",
    "    \n",
    "    \n",
    "    trainer.train()\n",
    "    \n",
    "    trainer.save_model(model_save_path)\n",
    "    tokenizer.save_pretrained(model_save_path)"
   ]
  },
  {
   "cell_type": "code",
   "execution_count": null,
   "metadata": {},
   "outputs": [],
   "source": []
  },
  {
   "cell_type": "code",
   "execution_count": null,
   "metadata": {},
   "outputs": [],
   "source": []
  },
  {
   "cell_type": "code",
   "execution_count": null,
   "metadata": {},
   "outputs": [],
   "source": [
    "#| hide\n",
    "import nbdev; nbdev.nbdev_export()"
   ]
  }
 ],
 "metadata": {
  "kernelspec": {
   "display_name": "Python 3 (ipykernel)",
   "language": "python",
   "name": "python3"
  },
  "language_info": {
   "codemirror_mode": {
    "name": "ipython",
    "version": 3
   },
   "file_extension": ".py",
   "mimetype": "text/x-python",
   "name": "python",
   "nbconvert_exporter": "python",
   "pygments_lexer": "ipython3",
   "version": "3.9.19"
  }
 },
 "nbformat": 4,
 "nbformat_minor": 4
}
